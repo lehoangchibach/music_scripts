{
 "cells": [
  {
   "cell_type": "code",
   "execution_count": null,
   "id": "73c707e2-3248-446e-a247-a172b3ce0c2d",
   "metadata": {},
   "outputs": [],
   "source": [
    "import json\n",
    "import os\n",
    "from io import BytesIO\n",
    "\n",
    "import ffmpeg\n",
    "import requests\n",
    "import eyed3\n",
    "from yt_dlp import YoutubeDL"
   ]
  },
  {
   "cell_type": "code",
   "execution_count": null,
   "id": "23511bb0-44e8-4ad8-98c5-4cc8be19c892",
   "metadata": {
    "scrolled": true
   },
   "outputs": [],
   "source": [
    "# playlist_url = input(\"Playlist URL: \")\n",
    "playlist_url = \"https://music.youtube.com/playlist?list=PLBRGkzFPYJTnTEznGZSTJw3LHQaRMg0OD&si=9tuMQb6ML2TnNWA8\"\n",
    "\n",
    "list_options = {\n",
    "    \"quite\": True,\n",
    "    \"listformats\": True,\n",
    "    \"cookiefile\": \"./cookies.txt\",\n",
    "    \"ignoreerrors\": True,\n",
    "}\n",
    "\n",
    "with YoutubeDL(list_options) as ydl:\n",
    "    info = ydl.extract_info(playlist_url, download=False)\n",
    "    if not info:\n",
    "        raise Exception(\"info None\")"
   ]
  },
  {
   "cell_type": "code",
   "execution_count": null,
   "id": "4ada9992-210b-4357-b528-9e0e0103851c",
   "metadata": {},
   "outputs": [],
   "source": [
    "# with open(\"./data/playlists.json\", \"w\") as f:\n",
    "#     json.dump(info, f)\n",
    "\n",
    "with open(\"./outputs/data/playlists.json\", \"r\") as f:\n",
    "    info = json.load(f)"
   ]
  },
  {
   "cell_type": "code",
   "execution_count": null,
   "id": "34b2dc2b-94f7-47d1-a936-d7245e1ceb5c",
   "metadata": {},
   "outputs": [],
   "source": [
    "entry[\"original_url\"]"
   ]
  },
  {
   "cell_type": "code",
   "execution_count": null,
   "id": "f1208355-006f-4a1f-aa13-022a41e6d702",
   "metadata": {
    "scrolled": true
   },
   "outputs": [],
   "source": [
    "for i, entry in enumerate(info[\"entries\"]):\n",
    "    if not entry:\n",
    "        print(f\"{i + 1}. None\")\n",
    "        continue\n",
    "\n",
    "    formats = [f for f in entry[\"formats\"] if f[\"resolution\"] == \"audio only\"]\n",
    "    formats.sort(key=lambda x: x[\"tbr\"] or 0, reverse=True)\n",
    "    format_id = formats[0][\"format_id\"]\n",
    "    output_file = \"./outputs/downloads/\" + entry[\"title\"] + \".\" + formats[0][\"audio_ext\"]\n",
    "    \n",
    "    if os.path.exists(output_file):\n",
    "        print(f\"{i + 1}. {entry['title']} - EXISTED\")\n",
    "        continue\n",
    "\n",
    "    print(f\"{i + 1}. {entry['title']}\")\n",
    "\n",
    "    with open(output_file, \"wb\") as f:\n",
    "        f.write(response.content)\n",
    "\n",
    "print(\"Download completed!\")"
   ]
  },
  {
   "cell_type": "code",
   "execution_count": null,
   "id": "ceccafb5-65fa-4436-885e-92b6a52c0a76",
   "metadata": {
    "scrolled": true
   },
   "outputs": [],
   "source": [
    "for i, entry in enumerate(info[\"entries\"]):\n",
    "    if not entry:\n",
    "        print(f\"{i + 1}. None\")\n",
    "        continue\n",
    "\n",
    "    formats = [f for f in entry[\"formats\"] if f[\"resolution\"] == \"audio only\"]\n",
    "    formats.sort(key=lambda x: x[\"tbr\"] or 0, reverse=True)\n",
    "    format_id = formats[0][\"format_id\"]\n",
    "    \n",
    "    webm = \"./outputs/downloads/\" + entry[\"title\"] + \".\" + formats[0][\"audio_ext\"]\n",
    "    mp3 = \"./outputs/thumbnails/\" + entry[\"title\"] + \".\" + \"mp3\"\n",
    "\n",
    "    ffmpeg.input(webm).output(mp3, vn=None).run()\n",
    "\n",
    "    audiofile = eyed3.load(mp3)\n",
    "    img_data = requests.get(entry[\"thumbnail\"]).content\n",
    "    audiofile.tag.images.set(3, img_data, \"image/jpeg\")\n",
    "    audiofile.tag.save()\n",
    "\n",
    "    print(f\"Thumbnail added to {mp3}\")\n",
    "\n"
   ]
  },
  {
   "cell_type": "code",
   "execution_count": null,
   "id": "4cdd318f-ae66-4799-9274-8a81de2db109",
   "metadata": {},
   "outputs": [],
   "source": []
  }
 ],
 "metadata": {
  "kernelspec": {
   "display_name": "Python 3 (ipykernel)",
   "language": "python",
   "name": "python3"
  },
  "language_info": {
   "codemirror_mode": {
    "name": "ipython",
    "version": 3
   },
   "file_extension": ".py",
   "mimetype": "text/x-python",
   "name": "python",
   "nbconvert_exporter": "python",
   "pygments_lexer": "ipython3",
   "version": "3.11.10"
  }
 },
 "nbformat": 4,
 "nbformat_minor": 5
}
