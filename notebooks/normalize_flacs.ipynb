{
 "cells": [
  {
   "cell_type": "code",
   "execution_count": 1,
   "id": "0d71ac58-2792-4315-88a4-096b8800a44d",
   "metadata": {},
   "outputs": [],
   "source": [
    "import os\n",
    "import shutil\n",
    "from functools import partial\n",
    "from multiprocessing import Pool\n",
    "\n",
    "import matplotlib.pyplot as plt\n",
    "import mutagen\n",
    "from mutagen.flac import FLAC, Picture\n",
    "from mutagen.id3 import APIC, ID3\n",
    "from mutagen.mp4 import MP4\n",
    "from pydub import AudioSegment\n",
    "from pydub.playback import play\n",
    "from pydub.utils import mediainfo"
   ]
  },
  {
   "cell_type": "code",
   "execution_count": 7,
   "id": "10fa678d-b18c-4143-84e5-adce55260a71",
   "metadata": {},
   "outputs": [],
   "source": [
    "input_folder = \"../../files/Rocks_normalized/\"\n",
    "output_folder = \"../../files/tmp_normalized/\"\n",
    "num_workers = 15"
   ]
  },
  {
   "cell_type": "code",
   "execution_count": 3,
   "id": "dd746a80-198c-40f6-81d3-a06d6cf92a84",
   "metadata": {},
   "outputs": [],
   "source": [
    "def divide_list(lst, n):\n",
    "    \"\"\"\n",
    "    Divides a list equally into n sublists.\n",
    "\n",
    "    Args:\n",
    "    lst: The list to be divided.\n",
    "    n: The number of sublists to create.\n",
    "\n",
    "    Returns:\n",
    "    A list of sublists.\n",
    "    \"\"\"\n",
    "    sublist_size = len(lst) // n\n",
    "    extra = len(lst) % n\n",
    "    sublists = []\n",
    "    start = 0\n",
    "    for i in range(n):\n",
    "        end = start + sublist_size\n",
    "        if i < extra:\n",
    "            end += 1\n",
    "        sublists.append(lst[start:end])\n",
    "        start = end\n",
    "    return sublists\n",
    "\n",
    "\n",
    "def normalize_audio(file: str, target_dBFS):\n",
    "    try:\n",
    "        input_file = os.path.join(input_folder, file)\n",
    "        output_file = os.path.join(output_folder, file)\n",
    "\n",
    "        # Load the audio file\n",
    "        audio = AudioSegment.from_file(input_file)\n",
    "        if target_dBFS - 1 <= audio.dBFS and audio.dBFS <= target_dBFS + 1:\n",
    "            shutil.copy2(input_file, output_file)\n",
    "            print(f\"No need to convert, copied: {input_file}\")\n",
    "            return\n",
    "\n",
    "        # Calculate the difference in loudness\n",
    "        change_in_dBFS = target_dBFS - audio.dBFS\n",
    "\n",
    "        # Apply gain to normalize\n",
    "        normalized_audio = audio.apply_gain(change_in_dBFS)\n",
    "\n",
    "        # Export normalized audio with the original bitrate\n",
    "        ext = file.rsplit(\".\", 1)[-1]\n",
    "        if ext == \"m4a\":\n",
    "            _format = \"ipod\"\n",
    "            \n",
    "            info = mediainfo(input_file)\n",
    "            original_bitrate = info.get(\"bit_rate\")\n",
    "            original_bitrate = round(int(original_bitrate)/1000)\n",
    "            original_bitrate = f\"{original_bitrate}k\"\n",
    "        elif ext == \"flac\":\n",
    "            _format = \"flac\"\n",
    "            original_bitrate = None\n",
    "        elif ext == \"mp3\":\n",
    "            _format = \"mp3\"\n",
    "            original_bitrate = f\"{audio.frame_rate}k\"\n",
    "        \n",
    "        normalized_audio.export(\n",
    "            output_file,\n",
    "            format=_format,\n",
    "            bitrate=original_bitrate,\n",
    "        )\n",
    "\n",
    "        if ext == \"flac\":\n",
    "            original_tags = FLAC(input_file)\n",
    "            new_tags = FLAC(output_file)\n",
    "            \n",
    "            for tag, value in original_tags.tags.items():\n",
    "                new_tags[tag] = value\n",
    "\n",
    "            for picture in original_tags.pictures:\n",
    "                img = Picture()\n",
    "                img.type = picture.type\n",
    "                img.mime = picture.mime\n",
    "                img.desc = picture.desc\n",
    "                img.data = picture.data\n",
    "                new_tags.add_picture(img)\n",
    "\n",
    "            new_tags.save(output_file)\n",
    "        elif ext == \"mp3\":\n",
    "            # Copy metadatas\n",
    "            original_tags = ID3(input_file)\n",
    "            new_tags = ID3(output_file)\n",
    "\n",
    "            # Copy tags & cover\n",
    "            for tag in original_tags.keys():\n",
    "                new_tags[tag] = original_tags[tag]\n",
    "                if isinstance(original_tags[tag], APIC):\n",
    "                    new_tags.add(original_tags[tag])\n",
    "            new_tags.save(output_file)\n",
    "        elif ext == \"m4a\":\n",
    "            audio = MP4(input_file)\n",
    "            audio_dest = MP4(output_file)\n",
    "\n",
    "            # Copy tags\n",
    "            for key, value in audio.items():\n",
    "                audio_dest[key] = value\n",
    "\n",
    "\n",
    "            # Save the tags to the destination file\n",
    "            audio_dest.save()\n",
    "\n",
    "        print(f\"Normalized: {input_file} -> {output_file}\")\n",
    "    except Exception as e:\n",
    "        print(f\"Error processing {input_file}: {e}\")\n",
    "\n",
    "\n",
    "def normalize_audios(files: list[str], target_dBFS):\n",
    "    for f in files:\n",
    "        normalize_audio(f, target_dBFS)\n",
    "\n",
    "\n",
    "# Main function\n",
    "def normalize_folder(input_folder, output_folder, target_dBFS):\n",
    "    if not os.path.exists(output_folder):\n",
    "        os.makedirs(output_folder)\n",
    "\n",
    "    sublists = divide_list(os.listdir(input_folder), num_workers)\n",
    "    f = partial(normalize_audios, target_dBFS=target_dBFS)\n",
    "    with Pool(processes=num_workers) as pool:\n",
    "        results = pool.map(f, sublists)\n",
    "\n",
    "\n",
    "def get_loudness(input_folder):\n",
    "    loudness_list = []\n",
    "    for root, _, files in os.walk(input_folder):\n",
    "        for file in files:\n",
    "            input_file = os.path.join(root, file)\n",
    "            try:\n",
    "                audio = AudioSegment.from_file(input_file)\n",
    "                loudness_list.append((input_file, audio.dBFS))\n",
    "            except Exception as e:\n",
    "                print(f\"Error reading {input_file}: {e}\")\n",
    "    return loudness_list"
   ]
  },
  {
   "cell_type": "code",
   "execution_count": 4,
   "id": "c0fbf55f-4325-4214-9399-a6eb6b895492",
   "metadata": {
    "scrolled": true
   },
   "outputs": [
    {
     "name": "stdout",
     "output_type": "stream",
     "text": [
      "No need to convert, copied: ../../files/tmp/Given Up.flac\n",
      "No need to convert, copied: ../../files/tmp/Highway to Hell (feat. Bruce Springsteen & Eddie Vedder).flac\n",
      "No need to convert, copied: ../../files/tmp/Beggin'.mp3\n",
      "No need to convert, copied: ../../files/tmp/Boulevard of Broken Dreams.flac\n",
      "No need to convert, copied: ../../files/tmp/Wake Me Up When September Ends.flac\n",
      "No need to convert, copied: ../../files/tmp/Waiting for the End.flac\n",
      "Normalized: ../../files/tmp/We Are The Champions.flac -> ../../files/tmp_normalized/We Are The Champions.flac\n",
      "Normalized: ../../files/tmp/9 Crimes.flac -> ../../files/tmp_normalized/9 Crimes.flac\n",
      "Normalized: ../../files/tmp/Time Is Running Out.flac -> ../../files/tmp_normalized/Time Is Running Out.flac\n",
      "Normalized: ../../files/tmp/Staying Alive (1977).flac -> ../../files/tmp_normalized/Staying Alive (1977).flac\n",
      "Normalized: ../../files/tmp/Thank You (Falettinme Be Mice Elf Agin).flac -> ../../files/tmp_normalized/Thank You (Falettinme Be Mice Elf Agin).flac\n",
      "Normalized: ../../files/tmp/Start Me Up.mp3 -> ../../files/tmp_normalized/Start Me Up.mp3\n",
      "Normalized: ../../files/tmp/Holding Out for a Hero.mp3 -> ../../files/tmp_normalized/Holding Out for a Hero.mp3\n"
     ]
    }
   ],
   "source": [
    "normalize_folder(input_folder, output_folder, target_dBFS=-10.0) "
   ]
  },
  {
   "cell_type": "code",
   "execution_count": 8,
   "id": "7cee6dc7-7034-414e-bd17-4a8bfb0874b2",
   "metadata": {},
   "outputs": [
    {
     "data": {
      "text/plain": [
       "(268,\n",
       " (array([ 16.,  10.,  16.,  22., 155.,  11.,  11.,   8.,   9.,  10.]),\n",
       "  array([-10.96834106, -10.77401515, -10.57968924, -10.38536333,\n",
       "         -10.19103743,  -9.99671152,  -9.80238561,  -9.6080597 ,\n",
       "          -9.4137338 ,  -9.21940789,  -9.02508198]),\n",
       "  <BarContainer object of 10 artists>))"
      ]
     },
     "execution_count": 8,
     "metadata": {},
     "output_type": "execute_result"
    },
    {
     "data": {
      "image/png": "[encoded data removed]",
      "text/plain": [
       "<Figure size 640x480 with 1 Axes>"
      ]
     },
     "metadata": {},
     "output_type": "display_data"
    }
   ],
   "source": [
    "loudnesses = get_loudness(input_folder)\n",
    "volumes = [x[1] for x in loudnesses]\n",
    "len(volumes), plt.hist(volumes)"
   ]
  },
  {
   "cell_type": "code",
   "execution_count": 6,
   "id": "e00f4596-5cd3-4e45-925a-3c41fd958508",
   "metadata": {},
   "outputs": [
    {
     "data": {
      "text/plain": [
       "(array([2., 0., 2., 1., 5., 0., 0., 2., 0., 1.]),\n",
       " array([-10.96646708, -10.77232857, -10.57819006, -10.38405155,\n",
       "        -10.18991304,  -9.99577453,  -9.80163602,  -9.60749751,\n",
       "         -9.413359  ,  -9.21922049,  -9.02508198]),\n",
       " <BarContainer object of 10 artists>)"
      ]
     },
     "execution_count": 6,
     "metadata": {},
     "output_type": "execute_result"
    },
    {
     "data": {
      "image/png": "[encoded data removed]",
      "text/plain": [
       "<Figure size 640x480 with 1 Axes>"
      ]
     },
     "metadata": {},
     "output_type": "display_data"
    }
   ],
   "source": [
    "loudnesses = get_loudness(output_folder)\n",
    "volumes = [x[1] for x in loudnesses]\n",
    "plt.hist(volumes)"
   ]
  },
  {
   "cell_type": "code",
   "execution_count": null,
   "id": "cf7136e5-d6fc-4efc-ab31-f6941e2c1b57",
   "metadata": {},
   "outputs": [],
   "source": []
  }
 ],
 "metadata": {
  "kernelspec": {
   "display_name": "Python 3 (ipykernel)",
   "language": "python",
   "name": "python3"
  },
  "language_info": {
   "codemirror_mode": {
    "name": "ipython",
    "version": 3
   },
   "file_extension": ".py",
   "mimetype": "text/x-python",
   "name": "python",
   "nbconvert_exporter": "python",
   "pygments_lexer": "ipython3",
   "version": "3.11.10"
  }
 },
 "nbformat": 4,
 "nbformat_minor": 5
}
