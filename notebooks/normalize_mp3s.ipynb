{
 "cells": [
  {
   "cell_type": "code",
   "execution_count": 1,
   "id": "0d71ac58-2792-4315-88a4-096b8800a44d",
   "metadata": {},
   "outputs": [],
   "source": [
    "import os\n",
    "import shutil\n",
    "\n",
    "import matplotlib.pyplot as plt\n",
    "from mutagen.easyid3 import EasyID3\n",
    "from mutagen.id3 import APIC, ID3\n",
    "from pydub import AudioSegment\n",
    "from pydub.playback import play\n",
    "from multiprocessing import Pool\n",
    "from functools import partial"
   ]
  },
  {
   "cell_type": "code",
   "execution_count": 2,
   "id": "10fa678d-b18c-4143-84e5-adce55260a71",
   "metadata": {},
   "outputs": [],
   "source": [
    "input_folder = \"../../files/tmp/\"\n",
    "output_folder = \"../../files/tmp_normalized/\"\n",
    "num_workers = 15"
   ]
  },
  {
   "cell_type": "code",
   "execution_count": 3,
   "id": "dd746a80-198c-40f6-81d3-a06d6cf92a84",
   "metadata": {},
   "outputs": [],
   "source": [
    "def divide_list(lst, n):\n",
    "    \"\"\"\n",
    "    Divides a list equally into n sublists.\n",
    "    \n",
    "    Args:\n",
    "    lst: The list to be divided.\n",
    "    n: The number of sublists to create.\n",
    "    \n",
    "    Returns:\n",
    "    A list of sublists.\n",
    "    \"\"\"\n",
    "    sublist_size = len(lst) // n\n",
    "    extra = len(lst) % n\n",
    "    sublists = []\n",
    "    start = 0\n",
    "    for i in range(n):\n",
    "        end = start + sublist_size\n",
    "        if i < extra:\n",
    "            end += 1\n",
    "        sublists.append(lst[start:end])\n",
    "        start = end\n",
    "    return sublists\n",
    "\n",
    "def normalize_audio(file: str, target_dBFS):\n",
    "    try:\n",
    "        input_file = os.path.join(input_folder, file)\n",
    "        output_file = os.path.join(output_folder, file)\n",
    "\n",
    "            \n",
    "        # Load the audio file\n",
    "        audio = AudioSegment.from_file(input_file)\n",
    "        if target_dBFS - 1 <= audio.dBFS and audio.dBFS <= target_dBFS + 1:\n",
    "            shutil.copy2(input_file, output_file)\n",
    "            print(f\"No need to convert, copied: {input_file}\")\n",
    "            return\n",
    "\n",
    "        # Calculate the difference in loudness\n",
    "        change_in_dBFS = target_dBFS - audio.dBFS\n",
    "\n",
    "        # Apply gain to normalize\n",
    "        normalized_audio = audio.apply_gain(change_in_dBFS)\n",
    "        \n",
    "        original_bitrate = audio.frame_rate\n",
    "\n",
    "        # Export normalized audio with the original bitrate\n",
    "        normalized_audio.export(output_file, format=\"mp3\", bitrate=f\"{original_bitrate}k\")\n",
    "\n",
    "        # Copy metadatas\n",
    "        original_tags = ID3(input_file)\n",
    "        new_tags = ID3(output_file)\n",
    "\n",
    "        # Copy tags & cover\n",
    "        for tag in original_tags.keys():\n",
    "            new_tags[tag] = original_tags[tag]\n",
    "            if isinstance(original_tags[tag], APIC):\n",
    "                new_tags.add(original_tags[tag])\n",
    "\n",
    "\n",
    "        new_tags.save(output_file)\n",
    "        \n",
    "        print(f\"Normalized: {input_file} -> {output_file}\")\n",
    "    except Exception as e:\n",
    "        print(f\"Error processing {input_file}: {e}\")\n",
    "\n",
    "def normalize_audios(files: list[str], target_dBFS):\n",
    "    for f in files:\n",
    "        normalize_audio(f, target_dBFS)\n",
    "\n",
    "# Main function\n",
    "def normalize_folder(input_folder, output_folder, target_dBFS):\n",
    "    if not os.path.exists(output_folder):\n",
    "        os.makedirs(output_folder)\n",
    "\n",
    "    sublists = divide_list(os.listdir(input_folder), num_workers)\n",
    "    f = partial(normalize_audios, target_dBFS=target_dBFS)\n",
    "    with Pool(processes=num_workers) as pool:\n",
    "        results = pool.map(f, sublists)\n",
    "\n",
    "\n",
    "def get_loudness(input_folder):\n",
    "    loudness_list = []\n",
    "    for root, _, files in os.walk(input_folder):\n",
    "        for file in files:\n",
    "            if file.endswith(\".mp3\"):\n",
    "                input_file = os.path.join(root, file)\n",
    "                try:\n",
    "                    audio = AudioSegment.from_file(input_file)\n",
    "                    loudness_list.append((input_file, audio.dBFS))\n",
    "                except Exception as e:\n",
    "                    print(f\"Error reading {input_file}: {e}\")\n",
    "    return loudness_list"
   ]
  },
  {
   "cell_type": "code",
   "execution_count": 4,
   "id": "7cee6dc7-7034-414e-bd17-4a8bfb0874b2",
   "metadata": {},
   "outputs": [
    {
     "data": {
      "text/plain": [
       "(array([2., 0., 0., 0., 0., 0., 0., 0., 0., 1.]),\n",
       " array([-14.73006414, -14.21461998, -13.69917581, -13.18373165,\n",
       "        -12.66828748, -12.15284332, -11.63739915, -11.12195499,\n",
       "        -10.60651082, -10.09106666,  -9.57562249]),\n",
       " <BarContainer object of 10 artists>)"
      ]
     },
     "execution_count": 4,
     "metadata": {},
     "output_type": "execute_result"
    },
    {
     "data": {
      "image/png": "[encoded data removed]",
      "text/plain": [
       "<Figure size 640x480 with 1 Axes>"
      ]
     },
     "metadata": {},
     "output_type": "display_data"
    }
   ],
   "source": [
    "loudnesses = get_loudness(input_folder)\n",
    "volumes = [x[1] for x in loudnesses]\n",
    "plt.hist(volumes)"
   ]
  },
  {
   "cell_type": "code",
   "execution_count": 11,
   "id": "c0fbf55f-4325-4214-9399-a6eb6b895492",
   "metadata": {
    "scrolled": true
   },
   "outputs": [
    {
     "name": "stdout",
     "output_type": "stream",
     "text": [
      "No need to convert, copied: ../../files/_additional/CAN GI NOI IU.mp3\n",
      "No need to convert, copied: ../../files/_additional/Băng Qua Cầu Giấy.mp3\n",
      "No need to convert, copied: ../../files/_additional/When You Look at Me (feat. Seachains).mp3\n",
      "No need to convert, copied: ../../files/_additional/Mưa Cứ Rơi.mp3\n",
      "No need to convert, copied: ../../files/_additional/Trở Về.mp3\n",
      "No need to convert, copied: ../../files/_additional/Dân Chơi Sao Phải Khóc.mp3\n",
      "No need to convert, copied: ../../files/_additional/Đừng.mp3\n",
      "No need to convert, copied: ../../files/_additional/Nép Vào Sát Vào.mp3\n",
      "No need to convert, copied: ../../files/_additional/Bước Za Đi Xa.mp3\n",
      "No need to convert, copied: ../../files/_additional/Nhạc Anh (feat. Wxrdie).mp3\n",
      "No need to convert, copied: ../../files/_additional/Cả 2.mp3\n",
      "Normalized: ../../files/_additional/No Boundary.mp3 -> ../../files/_additional_normalized/No Boundary.mp3\n",
      "Normalized: ../../files/_additional/420ChillnFree.mp3 -> ../../files/_additional_normalized/420ChillnFree.mp3\n",
      "Normalized: ../../files/_additional/1000 Ánh Mắt.mp3 -> ../../files/_additional_normalized/1000 Ánh Mắt.mp3\n",
      "Normalized: ../../files/_additional/Chơi Như Tụi Mỹ.mp3 -> ../../files/_additional_normalized/Chơi Như Tụi Mỹ.mp3\n",
      "Normalized: ../../files/_additional/Get Money.mp3 -> ../../files/_additional_normalized/Get Money.mp3\n",
      "Normalized: ../../files/_additional/Vinflow.mp3 -> ../../files/_additional_normalized/Vinflow.mp3\n",
      "Normalized: ../../files/_additional/Soju Love.mp3 -> ../../files/_additional_normalized/Soju Love.mp3\n",
      "Normalized: ../../files/_additional/Youngz (feat. Young Milo).mp3 -> ../../files/_additional_normalized/Youngz (feat. Young Milo).mp3\n",
      "Normalized: ../../files/_additional/Tự Sự.mp3 -> ../../files/_additional_normalized/Tự Sự.mp3\n",
      "Normalized: ../../files/_additional/Lâu Đài.mp3 -> ../../files/_additional_normalized/Lâu Đài.mp3\n",
      "Normalized: ../../files/_additional/DCME (feat. Rhymastic).mp3 -> ../../files/_additional_normalized/DCME (feat. Rhymastic).mp3\n",
      "Normalized: ../../files/_additional/Tim Anh Ghen.mp3 -> ../../files/_additional_normalized/Tim Anh Ghen.mp3\n",
      "Normalized: ../../files/_additional/29.mp3 -> ../../files/_additional_normalized/29.mp3\n",
      "No need to convert, copied: ../../files/_additional/Track 06.mp3\n",
      "Normalized: ../../files/_additional/Anh Freestyle.mp3 -> ../../files/_additional_normalized/Anh Freestyle.mp3\n",
      "Normalized: ../../files/_additional/No Days Off.mp3 -> ../../files/_additional_normalized/No Days Off.mp3\n",
      "Normalized: ../../files/_additional/Vô Điều Kiện.mp3 -> ../../files/_additional_normalized/Vô Điều Kiện.mp3\n",
      "No need to convert, copied: ../../files/_additional/Phong Long.mp3\n",
      "Normalized: ../../files/_additional/Kỉ Nguyên Mới.mp3 -> ../../files/_additional_normalized/Kỉ Nguyên Mới.mp3\n",
      "Normalized: ../../files/_additional/Champion.mp3 -> ../../files/_additional_normalized/Champion.mp3\n",
      "No need to convert, copied: ../../files/_additional/CHÊ HỘ.mp3\n",
      "Normalized: ../../files/_additional/Chưa Xong.mp3 -> ../../files/_additional_normalized/Chưa Xong.mp3\n",
      "Normalized: ../../files/_additional/Lối Sống.mp3 -> ../../files/_additional_normalized/Lối Sống.mp3\n",
      "Normalized: ../../files/_additional/Thèn Chóa.mp3 -> ../../files/_additional_normalized/Thèn Chóa.mp3\n",
      "Normalized: ../../files/_additional/Đổi Tư Thế.mp3 -> ../../files/_additional_normalized/Đổi Tư Thế.mp3\n",
      "Normalized: ../../files/_additional/40 độ.mp3 -> ../../files/_additional_normalized/40 độ.mp3\n",
      "Normalized: ../../files/_additional/Backstage Freestyle.mp3 -> ../../files/_additional_normalized/Backstage Freestyle.mp3\n",
      "Normalized: ../../files/_additional/Con kể Ba nghe.mp3 -> ../../files/_additional_normalized/Con kể Ba nghe.mp3\n",
      "Normalized: ../../files/_additional/Mời Em.mp3 -> ../../files/_additional_normalized/Mời Em.mp3\n"
     ]
    }
   ],
   "source": [
    "normalize_folder(input_folder, output_folder, target_dBFS=-12.0)"
   ]
  },
  {
   "cell_type": "code",
   "execution_count": 12,
   "id": "e00f4596-5cd3-4e45-925a-3c41fd958508",
   "metadata": {},
   "outputs": [
    {
     "data": {
      "text/plain": [
       "(array([ 3.,  0.,  2.,  0., 15., 13.,  0.,  1.,  3.,  3.]),\n",
       " array([-12.9243643 , -12.73979572, -12.55522714, -12.37065855,\n",
       "        -12.18608997, -12.00152139, -11.8169528 , -11.63238422,\n",
       "        -11.44781564, -11.26324705, -11.07867847]),\n",
       " <BarContainer object of 10 artists>)"
      ]
     },
     "execution_count": 12,
     "metadata": {},
     "output_type": "execute_result"
    },
    {
     "data": {
      "image/png": "[encoded data removed]",
      "text/plain": [
       "<Figure size 640x480 with 1 Axes>"
      ]
     },
     "metadata": {},
     "output_type": "display_data"
    }
   ],
   "source": [
    "loudnesses = get_loudness(output_folder)\n",
    "volumes = [x[1] for x in loudnesses]\n",
    "plt.hist(volumes)"
   ]
  },
  {
   "cell_type": "code",
   "execution_count": null,
   "id": "be4882e6-8e0f-463e-a277-31599aca6de2",
   "metadata": {},
   "outputs": [],
   "source": []
  }
 ],
 "metadata": {
  "kernelspec": {
   "display_name": "Python 3 (ipykernel)",
   "language": "python",
   "name": "python3"
  },
  "language_info": {
   "codemirror_mode": {
    "name": "ipython",
    "version": 3
   },
   "file_extension": ".py",
   "mimetype": "text/x-python",
   "name": "python",
   "nbconvert_exporter": "python",
   "pygments_lexer": "ipython3",
   "version": "3.11.10"
  }
 },
 "nbformat": 4,
 "nbformat_minor": 5
}
