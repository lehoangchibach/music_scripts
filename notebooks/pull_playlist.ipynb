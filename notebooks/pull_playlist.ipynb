{
 "cells": [
  {
   "cell_type": "code",
   "execution_count": 1,
   "id": "73c707e2-3248-446e-a247-a172b3ce0c2d",
   "metadata": {},
   "outputs": [],
   "source": [
    "import json\n",
    "import os\n",
    "from io import BytesIO\n",
    "\n",
    "import eyed3\n",
    "import ffmpeg\n",
    "import requests\n",
    "from yt_dlp import YoutubeDL"
   ]
  },
  {
   "cell_type": "code",
   "execution_count": null,
   "id": "c5b4ab1e-5504-418e-aa1a-0fc87e65badf",
   "metadata": {
    "scrolled": true
   },
   "outputs": [
    {
     "name": "stderr",
     "output_type": "stream",
     "text": [
      "[debug] Encodings: locale UTF-8, fs utf-8, pref UTF-8, out UTF-8 (No ANSI), error UTF-8 (No ANSI), screen UTF-8 (No ANSI)\n",
      "[debug] yt-dlp version stable@2025.06.09 from yt-dlp/yt-dlp [339614a17] (pip) API\n",
      "[debug] params: {'listformats': True, 'ignoreerrors': True, 'verbose': True, 'compat_opts': set(), 'http_headers': {'User-Agent': 'Mozilla/5.0 (Windows NT 10.0; Win64; x64) AppleWebKit/537.36 (KHTML, like Gecko) Chrome/96.0.4664.18 Safari/537.36', 'Accept': 'text/html,application/xhtml+xml,application/xml;q=0.9,*/*;q=0.8', 'Accept-Language': 'en-us,en;q=0.5', 'Sec-Fetch-Mode': 'navigate'}}\n",
      "[debug] Python 3.11.9 (CPython x86_64 64bit) - Linux-6.15.5-100.fc41.x86_64-x86_64-with-glibc2.40 (OpenSSL 3.3.2 3 Sep 2024, glibc 2.40)\n",
      "[debug] exe versions: ffmpeg 9c33b2f, ffprobe 9c33b2f\n",
      "[debug] Optional libraries: brotli-1.1.0, certifi-2024.08.30, mutagen-1.47.0, requests-2.32.3, sqlite3-3.45.3, urllib3-2.2.3\n",
      "[debug] Proxy map: {}\n",
      "[debug] Request Handlers: urllib, requests\n",
      "[debug] Plugin directories: none\n",
      "[debug] Loaded 1859 extractors\n"
     ]
    },
    {
     "name": "stdout",
     "output_type": "stream",
     "text": [
      "[youtube:tab] Extracting URL: https://music.youtube.com/playlist?list=PLBRGkzFPYJTm-nBmUmWv8uo5tk9KNQ_9R&si=wqnpJXsl19P_ufd5\n"
     ]
    },
    {
     "name": "stderr",
     "output_type": "stream",
     "text": [
      "WARNING: [youtube:tab] YouTube Music is not directly supported. Redirecting to https://www.youtube.com/playlist?list=PLBRGkzFPYJTm-nBmUmWv8uo5tk9KNQ_9R&si=wqnpJXsl19P_ufd5\n"
     ]
    },
    {
     "name": "stdout",
     "output_type": "stream",
     "text": [
      "[youtube:tab] PLBRGkzFPYJTm-nBmUmWv8uo5tk9KNQ_9R: Downloading webpage\n"
     ]
    }
   ],
   "source": [
    "# Playlist\n",
    "youtube_urls = \"https://music.youtube.com/playlist?list=PLBRGkzFPYJTm-nBmUmWv8uo5tk9KNQ_9R&si=wqnpJXsl19P_ufd5\"\n",
    "\n",
    "options = {\n",
    "    \"listformats\": True,\n",
    "    \"ignoreerrors\": True,\n",
    "    # \"cookiefile\": \"/home/lehoangchibach/Downloads/cookies.txt\",\n",
    "    \"verbose\": True,\n",
    "}\n",
    "\n",
    "with YoutubeDL(options) as ydl:\n",
    "    info = ydl.extract_info(youtube_urls, download=False)\n",
    "\n",
    "# with open(\"./outputs/data/playlists.json\", \"w\") as f:\n",
    "#     json.dump(info, f)\n",
    "\n",
    "# with open(\"./outputs/data/playlists.json\", \"r\") as f:\n",
    "#     info = json.load(f)"
   ]
  },
  {
   "cell_type": "code",
   "execution_count": null,
   "id": "34b2dc2b-94f7-47d1-a936-d7245e1ceb5c",
   "metadata": {
    "scrolled": true
   },
   "outputs": [],
   "source": [
    "len(info[\"entries\"])"
   ]
  },
  {
   "cell_type": "code",
   "execution_count": null,
   "id": "f1208355-006f-4a1f-aa13-022a41e6d702",
   "metadata": {
    "scrolled": true
   },
   "outputs": [],
   "source": [
    "options = {\n",
    "    # \"listformats\": True,\n",
    "    \"cookiefile\": \"./outputs/cookies.txt\",\n",
    "    \"outtmpl\": \"./outputs/downloads/%(title)s.%(ext)s\",  # Output file name\n",
    "}\n",
    "\n",
    "for i, entry in enumerate(info[\"entries\"]):\n",
    "    if not entry:\n",
    "        print(f\"{i + 1}. None\")\n",
    "        continue\n",
    "\n",
    "    formats = [f for f in entry[\"formats\"] if f[\"resolution\"] == \"audio only\"]\n",
    "    formats.sort(key=lambda x: x[\"tbr\"] or 0, reverse=True)\n",
    "    format_id = formats[0][\"format_id\"]\n",
    "\n",
    "    title = entry[\"title\"]\n",
    "    title = title.replace(\"｜\", \"|\")\n",
    "    title = title.replace(\"：\", \":\")\n",
    "    title = title.replace(\"＂\", \"\\\"\",)\n",
    "    title = title.replace(\"/\", \"-\")\n",
    "    \n",
    "    output_file = \"./outputs/downloads/\" + title + \".\" + formats[0][\"audio_ext\"]\n",
    "    options[\"outtmpl\"] = output_file\n",
    "    \n",
    "    if os.path.exists(output_file):\n",
    "        print(f\"{i + 1}. {entry['title']} - EXISTED\")\n",
    "        continue\n",
    "    print(f\"{i + 1}. {entry['title']}\")\n",
    "\n",
    "    options[\"format\"] = format_id\n",
    "    with YoutubeDL(options) as ydl:\n",
    "        ydl.download(entry[\"original_url\"])\n",
    "\n",
    "print(\"Download completed!\")"
   ]
  },
  {
   "cell_type": "code",
   "execution_count": null,
   "id": "ceccafb5-65fa-4436-885e-92b6a52c0a76",
   "metadata": {
    "scrolled": true
   },
   "outputs": [],
   "source": [
    "not_exists = []\n",
    "for i, entry in enumerate(info[\"entries\"]):\n",
    "    if not entry:\n",
    "        print(f\"{i + 1}. None\")\n",
    "        continue\n",
    "\n",
    "    formats = [f for f in entry[\"formats\"] if f[\"resolution\"] == \"audio only\"]\n",
    "    formats.sort(key=lambda x: x[\"tbr\"] or 0, reverse=True)\n",
    "    format_id = formats[0][\"format_id\"]\n",
    "\n",
    "    title = entry[\"title\"]\n",
    "    title = title.replace(\"｜\", \"|\")\n",
    "    title = title.replace(\"：\", \":\")\n",
    "    title = title.replace(\"＂\", \"\\\"\",)\n",
    "    title = title.replace(\"/\", \"-\")\n",
    "\n",
    "    fulltitle = entry[\"fulltitle\"]\n",
    "    fulltitle = fulltitle.replace(\"｜\", \"|\")\n",
    "    fulltitle = fulltitle.replace(\"：\", \":\")\n",
    "    fulltitle = fulltitle.replace(\"＂\", \"\\\"\",)\n",
    "    fulltitle = fulltitle.replace(\"/\", \"-\")\n",
    "\n",
    "    webm = \"./outputs/downloads/\" + title + \".\" + formats[0][\"audio_ext\"]\n",
    "    mp3 = \"./outputs/thumbnails/\" + fulltitle + \".\" + \"mp3\"\n",
    "    # webm = webm.replace(\"|\", \"｜\")\n",
    "    # webm = webm.replace(\":\", \"：\")\n",
    "    # webm = webm.replace(\"\\\"\", \"＂\")\n",
    "    # webm = webm.replace(\"/\", \"⧸\")\n",
    "    \n",
    "    \n",
    "    if not os.path.exists(webm):\n",
    "        not_exists.append(webm)\n",
    "        print(f\"{i+1}. Not existed - \", webm)\n",
    "        continue\n",
    "    if os.path.exists(mp3):\n",
    "        print(f\"{i+1}. Existed - \", mp3)\n",
    "        continue\n",
    "\n",
    "    ffmpeg.input(webm).output(mp3, vn=None, acodec=\"libmp3lame\", q=0).run()\n",
    "\n",
    "    audiofile = eyed3.load(mp3)\n",
    "    img_data = requests.get(entry[\"thumbnail\"]).content\n",
    "    audiofile.tag.images.set(3, img_data, \"image/jpeg\")\n",
    "    audiofile.tag.artist = entry.get(\"artist\", None)\n",
    "    audiofile.tag.album = entry.get(\"album\", None)\n",
    "    audiofile.tag.title = entry.get(\"fulltitle\", None)\n",
    "\n",
    "    audiofile.tag.save()\n",
    "\n",
    "    print(f\"{i+1}. Thumbnail added to {mp3}\")"
   ]
  },
  {
   "cell_type": "code",
   "execution_count": null,
   "id": "33a7bbb7-c9b1-438a-8c52-28bc0c648546",
   "metadata": {
    "scrolled": true
   },
   "outputs": [],
   "source": [
    "len(not_exists), not_exists"
   ]
  },
  {
   "cell_type": "code",
   "execution_count": null,
   "id": "02f9c864-51e7-4838-ad90-327db58215cb",
   "metadata": {},
   "outputs": [],
   "source": []
  }
 ],
 "metadata": {
  "kernelspec": {
   "display_name": "Python 3 (ipykernel)",
   "language": "python",
   "name": "python3"
  },
  "language_info": {
   "codemirror_mode": {
    "name": "ipython",
    "version": 3
   },
   "file_extension": ".py",
   "mimetype": "text/x-python",
   "name": "python",
   "nbconvert_exporter": "python",
   "pygments_lexer": "ipython3",
   "version": "3.11.9"
  }
 },
 "nbformat": 4,
 "nbformat_minor": 5
}
